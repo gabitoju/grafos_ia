{
 "cells": [
  {
   "cell_type": "markdown",
   "metadata": {},
   "source": [
    "# NLP con grafos"
   ]
  },
  {
   "cell_type": "code",
   "execution_count": null,
   "metadata": {},
   "outputs": [],
   "source": [
    "from neo4j import GraphDatabase\n",
    "from tabulate import tabulate\n",
    "from graphviz import Digraph"
   ]
  },
  {
   "cell_type": "code",
   "execution_count": null,
   "metadata": {},
   "outputs": [],
   "source": [
    "graph_connection = GraphDatabase.driver(\"bolt://localhost:7687\", auth=(\"neo4j\", \"password\"))"
   ]
  },
  {
   "cell_type": "markdown",
   "metadata": {},
   "source": [
    "### ¿Cuáles son las palabras que más conexiones reciben?"
   ]
  },
  {
   "cell_type": "code",
   "execution_count": 9,
   "metadata": {},
   "outputs": [
    {
     "name": "stdout",
     "output_type": "stream",
     "text": [
      "Word      Count\n",
      "------  -------\n",
      "amen         12\n",
      "tipo          4\n",
      "tiempo        3\n",
      "cantar        3\n",
      "tiene         3\n"
     ]
    }
   ],
   "source": [
    "most_connections = \"\"\"\n",
    "MATCH (n:Word)<-[r:NEXT]-(m:Word)\n",
    "RETURN n.name AS name, r.count AS count\n",
    "ORDER BY r.count DESC\n",
    "LIMIT 5\n",
    "\"\"\"\n",
    "\n",
    "with graph_connection.session() as session:\n",
    "    result = session.run(most_connections)\n",
    "    table = [(r[\"name\"], r[\"count\"]) for r in result]\n",
    "    print(tabulate(table, headers=[\"Word\", \"Count\"]))"
   ]
  },
  {
   "cell_type": "markdown",
   "metadata": {},
   "source": [
    "### ¿Cuáles son los pares más frecuentes?"
   ]
  },
  {
   "cell_type": "code",
   "execution_count": 10,
   "metadata": {},
   "outputs": [
    {
     "name": "stdout",
     "output_type": "stream",
     "text": [
      "Pairs                 Count\n",
      "------------------  -------\n",
      "['amen', 'amen']         12\n",
      "['este', 'tipo']          4\n",
      "['pero', 'tiene']         3\n",
      "['para', 'cantar']        3\n",
      "['este', 'país']          3\n"
     ]
    }
   ],
   "source": [
    "word_pairs = \"\"\"\n",
    "MATCH (w1:Word)-[r:NEXT]->(w2:Word)\n",
    "RETURN [w1.name, w2.name] AS pairs, r.count AS count\n",
    "ORDER BY r.count DESC\n",
    "LIMIT 5\n",
    "\"\"\"\n",
    "\n",
    "with graph_connection.session() as session:\n",
    "    result = session.run(word_pairs)\n",
    "    table = [(r[\"pairs\"], r[\"count\"]) for r in result]\n",
    "    print(tabulate(table, headers=[\"Pairs\", \"Count\"]))"
   ]
  },
  {
   "cell_type": "code",
   "execution_count": 11,
   "metadata": {},
   "outputs": [
    {
     "name": "stdout",
     "output_type": "stream",
     "text": [
      "Pairs                 Count\n",
      "------------------  -------\n",
      "['este', 'tipo']          4\n",
      "['para', 'cantar']        3\n",
      "['pero', 'tiene']         3\n",
      "['hace', 'meses']         3\n",
      "['este', 'país']          3\n"
     ]
    }
   ],
   "source": [
    "word_pairs = \"\"\"\n",
    "MATCH (w1:Word)-[r:NEXT]->(w2:Word)\n",
    "WHERE w1.name <> w2.name\n",
    "RETURN [w1.name, w2.name] AS pairs, r.count AS count\n",
    "ORDER BY r.count DESC\n",
    "LIMIT 5\n",
    "\"\"\"\n",
    "\n",
    "with graph_connection.session() as session:\n",
    "    result = session.run(word_pairs)\n",
    "    table = [(r[\"pairs\"], r[\"count\"]) for r in result]\n",
    "    print(tabulate(table, headers=[\"Pairs\", \"Count\"]))"
   ]
  },
  {
   "cell_type": "markdown",
   "metadata": {},
   "source": [
    "###  Contextualizar palabras"
   ]
  },
  {
   "cell_type": "code",
   "execution_count": 12,
   "metadata": {},
   "outputs": [
    {
     "name": "stdout",
     "output_type": "stream",
     "text": [
      "Previous Word    Word      Count\n",
      "---------------  ------  -------\n",
      "amen             amen         12\n",
      "recontra         amen          2\n",
      "pous             amen          1\n",
      "\n",
      "Next Word    Word      Count\n",
      "-----------  ------  -------\n",
      "amen         amen         12\n",
      "ijue         amen          1\n"
     ]
    }
   ],
   "source": [
    "word_left_context = \"\"\"\n",
    "MATCH (w1:Word {name: \"amen\"})\n",
    "MATCH (w2:Word)-[r:NEXT]->(w1)\n",
    "RETURN w2.name AS prev, w1.name AS word, r.count AS count\n",
    "ORDER BY r.count DESC\n",
    "\"\"\"\n",
    "\n",
    "word_right_context = \"\"\"\n",
    "MATCH (w1:Word {name: \"amen\"})\n",
    "MATCH (w2:Word)<-[r:NEXT]-(w1)\n",
    "RETURN w2.name AS next, w1.name AS word, r.count AS count\n",
    "ORDER BY r.count DESC\n",
    "\"\"\"\n",
    "\n",
    "with graph_connection.session() as session:\n",
    "    result = session.run(word_left_context)    \n",
    "    left_table = [(r[\"prev\"], r[\"word\"], r[\"count\"]) for r in result]\n",
    "    result = session.run(word_right_context)\n",
    "    right_table = [(r[\"next\"], r[\"word\"], r[\"count\"]) for r in result]\n",
    "    print(tabulate(left_table, headers=[\"Previous Word\", \"Word\", \"Count\"]))\n",
    "    print()\n",
    "    print(tabulate(right_table, headers=[\"Next Word\", \"Word\", \"Count\"]))\n"
   ]
  },
  {
   "cell_type": "markdown",
   "metadata": {},
   "source": [
    "### Generar resúmenes"
   ]
  },
  {
   "cell_type": "code",
   "execution_count": 13,
   "metadata": {},
   "outputs": [
    {
     "name": "stdout",
     "output_type": "stream",
     "text": [
      "Phrase                                                   Weight\n",
      "-----------------------------------------------------  --------\n",
      "['amen', 'amen']                                        6\n",
      "['recontra', 'amen', 'amen']                            4.66667\n",
      "['amen', 'amen', 'ijue']                                4.33333\n",
      "['pous', 'amen', 'amen']                                4.33333\n",
      "['multicolores', 'recontra', 'amen', 'amen']            4\n",
      "['amen', 'amen', 'ijue', 'siete']                       3.75\n",
      "['recontra', 'amen', 'amen', 'ijue']                    3.75\n",
      "['siete', 'multicolores', 'recontra', 'amen', 'amen']   3.6\n",
      "['mamaderus', 'pous', 'amen', 'amen']                   3.5\n",
      "['pous', 'amen', 'amen', 'ijue']                        3.5\n"
     ]
    }
   ],
   "source": [
    "summarize = \"\"\"\n",
    "MATCH p=(:Word)-[:NEXT*1..4]->(:Word) WITH p\n",
    "WITH reduce(s = 0, x IN relationships(p) | s + x.count) AS total, p\n",
    "WITH nodes(p) AS text, 1.0*total/size(nodes(p)) AS weight\n",
    "RETURN extract(x IN text | x.name) AS phrase, weight \n",
    "ORDER BY weight DESC LIMIT 10;\n",
    "\"\"\"\n",
    "\n",
    "with graph_connection.session() as session:\n",
    "    result = session.run(summarize)    \n",
    "    table = [(r[\"phrase\"], r[\"weight\"]) for r in result]\n",
    "    print(tabulate(table, headers=[\"Phrase\", \"Weight\"]))"
   ]
  },
  {
   "cell_type": "markdown",
   "metadata": {},
   "source": [
    "### Generar nuevos textos"
   ]
  },
  {
   "cell_type": "code",
   "execution_count": 15,
   "metadata": {},
   "outputs": [
    {
     "data": {
      "image/svg+xml": [
       "<?xml version=\"1.0\" encoding=\"UTF-8\" standalone=\"no\"?>\n",
       "<!DOCTYPE svg PUBLIC \"-//W3C//DTD SVG 1.1//EN\"\n",
       " \"http://www.w3.org/Graphics/SVG/1.1/DTD/svg11.dtd\">\n",
       "<!-- Generated by graphviz version 2.44.0 (20200408.0750)\n",
       " -->\n",
       "<!-- Pages: 1 -->\n",
       "<svg width=\"560pt\" height=\"44pt\"\n",
       " viewBox=\"0.00 0.00 559.99 44.00\" xmlns=\"http://www.w3.org/2000/svg\" xmlns:xlink=\"http://www.w3.org/1999/xlink\">\n",
       "<g id=\"graph0\" class=\"graph\" transform=\"scale(1 1) rotate(0) translate(4 40)\">\n",
       "<polygon fill=\"white\" stroke=\"transparent\" points=\"-4,4 -4,-40 555.99,-40 555.99,4 -4,4\"/>\n",
       "<!-- tipo0 -->\n",
       "<g id=\"node1\" class=\"node\">\n",
       "<title>tipo0</title>\n",
       "<ellipse fill=\"none\" stroke=\"black\" cx=\"27\" cy=\"-18\" rx=\"27\" ry=\"18\"/>\n",
       "<text text-anchor=\"middle\" x=\"27\" y=\"-14.3\" font-family=\"Times,serif\" font-size=\"14.00\">tipo</text>\n",
       "</g>\n",
       "<!-- este1 -->\n",
       "<g id=\"node2\" class=\"node\">\n",
       "<title>este1</title>\n",
       "<ellipse fill=\"none\" stroke=\"black\" cx=\"117\" cy=\"-18\" rx=\"27\" ry=\"18\"/>\n",
       "<text text-anchor=\"middle\" x=\"117\" y=\"-14.3\" font-family=\"Times,serif\" font-size=\"14.00\">este</text>\n",
       "</g>\n",
       "<!-- tipo0&#45;&gt;este1 -->\n",
       "<g id=\"edge1\" class=\"edge\">\n",
       "<title>tipo0&#45;&gt;este1</title>\n",
       "<path fill=\"none\" stroke=\"black\" d=\"M54.4,-18C62.39,-18 71.31,-18 79.82,-18\"/>\n",
       "<polygon fill=\"black\" stroke=\"black\" points=\"79.92,-21.5 89.92,-18 79.92,-14.5 79.92,-21.5\"/>\n",
       "</g>\n",
       "<!-- tipo2 -->\n",
       "<g id=\"node3\" class=\"node\">\n",
       "<title>tipo2</title>\n",
       "<ellipse fill=\"none\" stroke=\"black\" cx=\"207\" cy=\"-18\" rx=\"27\" ry=\"18\"/>\n",
       "<text text-anchor=\"middle\" x=\"207\" y=\"-14.3\" font-family=\"Times,serif\" font-size=\"14.00\">tipo</text>\n",
       "</g>\n",
       "<!-- este1&#45;&gt;tipo2 -->\n",
       "<g id=\"edge2\" class=\"edge\">\n",
       "<title>este1&#45;&gt;tipo2</title>\n",
       "<path fill=\"none\" stroke=\"black\" d=\"M144.4,-18C152.39,-18 161.31,-18 169.82,-18\"/>\n",
       "<polygon fill=\"black\" stroke=\"black\" points=\"169.92,-21.5 179.92,-18 169.92,-14.5 169.92,-21.5\"/>\n",
       "</g>\n",
       "<!-- buen3 -->\n",
       "<g id=\"node4\" class=\"node\">\n",
       "<title>buen3</title>\n",
       "<ellipse fill=\"none\" stroke=\"black\" cx=\"297.95\" cy=\"-18\" rx=\"27.9\" ry=\"18\"/>\n",
       "<text text-anchor=\"middle\" x=\"297.95\" y=\"-14.3\" font-family=\"Times,serif\" font-size=\"14.00\">buen</text>\n",
       "</g>\n",
       "<!-- tipo2&#45;&gt;buen3 -->\n",
       "<g id=\"edge3\" class=\"edge\">\n",
       "<title>tipo2&#45;&gt;buen3</title>\n",
       "<path fill=\"none\" stroke=\"black\" d=\"M234.21,-18C242.15,-18 251.03,-18 259.56,-18\"/>\n",
       "<polygon fill=\"black\" stroke=\"black\" points=\"259.69,-21.5 269.69,-18 259.69,-14.5 259.69,-21.5\"/>\n",
       "</g>\n",
       "<!-- tipo4 -->\n",
       "<g id=\"node5\" class=\"node\">\n",
       "<title>tipo4</title>\n",
       "<ellipse fill=\"none\" stroke=\"black\" cx=\"388.9\" cy=\"-18\" rx=\"27\" ry=\"18\"/>\n",
       "<text text-anchor=\"middle\" x=\"388.9\" y=\"-14.3\" font-family=\"Times,serif\" font-size=\"14.00\">tipo</text>\n",
       "</g>\n",
       "<!-- buen3&#45;&gt;tipo4 -->\n",
       "<g id=\"edge4\" class=\"edge\">\n",
       "<title>buen3&#45;&gt;tipo4</title>\n",
       "<path fill=\"none\" stroke=\"black\" d=\"M326.12,-18C334.18,-18 343.14,-18 351.68,-18\"/>\n",
       "<polygon fill=\"black\" stroke=\"black\" points=\"351.81,-21.5 361.81,-18 351.81,-14.5 351.81,-21.5\"/>\n",
       "</g>\n",
       "<!-- profesional5 -->\n",
       "<g id=\"node6\" class=\"node\">\n",
       "<title>profesional5</title>\n",
       "<ellipse fill=\"none\" stroke=\"black\" cx=\"501.94\" cy=\"-18\" rx=\"50.09\" ry=\"18\"/>\n",
       "<text text-anchor=\"middle\" x=\"501.94\" y=\"-14.3\" font-family=\"Times,serif\" font-size=\"14.00\">profesional</text>\n",
       "</g>\n",
       "<!-- tipo4&#45;&gt;profesional5 -->\n",
       "<g id=\"edge5\" class=\"edge\">\n",
       "<title>tipo4&#45;&gt;profesional5</title>\n",
       "<path fill=\"none\" stroke=\"black\" d=\"M415.93,-18C423.66,-18 432.47,-18 441.41,-18\"/>\n",
       "<polygon fill=\"black\" stroke=\"black\" points=\"441.52,-21.5 451.52,-18 441.52,-14.5 441.52,-21.5\"/>\n",
       "</g>\n",
       "</g>\n",
       "</svg>\n"
      ],
      "text/plain": [
       "<graphviz.dot.Digraph at 0x7f9456f736d0>"
      ]
     },
     "metadata": {},
     "output_type": "display_data"
    }
   ],
   "source": [
    "random_walk = \"\"\"\n",
    "MATCH (w:Word {{name: '{word}'}})\n",
    "CALL algo.randomWalk.stream(id(w), 5, 1)\n",
    "YIELD nodeIds\n",
    "UNWIND nodeIds AS nodeId\n",
    "RETURN algo.asNode(nodeId).name AS word\n",
    "\"\"\"\n",
    "\n",
    "def generate_random_comment(word):\n",
    "    with graph_connection.session() as session:\n",
    "        result = session.run(random_walk.format(word=word))\n",
    "        words = [r[\"word\"] for r in result]\n",
    "        dot = Digraph(graph_attr={'rankdir':'LR'}, comment='Random Comment')\n",
    "        words_length = len(words)\n",
    "\n",
    "        for ix, word in enumerate(words):\n",
    "            dot.node(word + str(ix), word)\n",
    "                \n",
    "        for ix, word in enumerate(words):\n",
    "            if ix < words_length - 1:\n",
    "                dot.edge(word + str(ix), words[ix + 1] + str(ix + 1))\n",
    "\n",
    "        display(dot)\n",
    "\n",
    "generate_random_comment(\"tipo\")"
   ]
  },
  {
   "cell_type": "code",
   "execution_count": null,
   "metadata": {},
   "outputs": [],
   "source": []
  },
  {
   "cell_type": "code",
   "execution_count": null,
   "metadata": {},
   "outputs": [],
   "source": []
  }
 ],
 "metadata": {
  "kernelspec": {
   "display_name": "Python 3",
   "language": "python",
   "name": "python3"
  },
  "language_info": {
   "codemirror_mode": {
    "name": "ipython",
    "version": 3
   },
   "file_extension": ".py",
   "mimetype": "text/x-python",
   "name": "python",
   "nbconvert_exporter": "python",
   "pygments_lexer": "ipython3",
   "version": "3.7.4"
  }
 },
 "nbformat": 4,
 "nbformat_minor": 2
}
